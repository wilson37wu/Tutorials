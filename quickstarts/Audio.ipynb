{
  "cells": [
    {
      "cell_type": "markdown",
      "metadata": {
        "id": "view-in-github",
        "colab_type": "text"
      },
      "source": [
        "<a href=\"https://colab.research.google.com/github/wilson37wu/Tutorials/blob/master/quickstarts/Audio.ipynb\" target=\"_parent\"><img src=\"https://colab.research.google.com/assets/colab-badge.svg\" alt=\"Open In Colab\"/></a>"
      ]
    },
    {
      "cell_type": "markdown",
      "metadata": {
        "id": "Tce3stUlHN0L"
      },
      "source": [
        "##### Copyright 2025 Google LLC."
      ]
    },
    {
      "cell_type": "code",
      "execution_count": 20,
      "metadata": {
        "id": "tuOe1ymfHZPu"
      },
      "outputs": [],
      "source": [
        "# @title Licensed under the Apache License, Version 2.0 (the \"License\");\n",
        "# you may not use this file except in compliance with the License.\n",
        "# You may obtain a copy of the License at\n",
        "#\n",
        "# https://www.apache.org/licenses/LICENSE-2.0\n",
        "#\n",
        "# Unless required by applicable law or agreed to in writing, software\n",
        "# distributed under the License is distributed on an \"AS IS\" BASIS,\n",
        "# WITHOUT WARRANTIES OR CONDITIONS OF ANY KIND, either express or implied.\n",
        "# See the License for the specific language governing permissions and\n",
        "# limitations under the License."
      ]
    },
    {
      "cell_type": "markdown",
      "metadata": {
        "id": "0etRtS83RcWS"
      },
      "source": [
        "# Gemini API: Audio Quickstart\n",
        "\n",
        "<a target=\"_blank\" href=\"https://colab.research.google.com/github/google-gemini/cookbook/blob/main/quickstarts/Audio.ipynb\"><img src=\"https://colab.research.google.com/assets/colab-badge.svg\" height=30/></a>"
      ]
    },
    {
      "cell_type": "markdown",
      "metadata": {
        "id": "r1IzNLho-NqV"
      },
      "source": [
        "This notebook provides an example of how to prompt Gemini Flash using an audio file. In this case, you'll use a [sound recording](https://www.jfklibrary.org/asset-viewer/archives/jfkwha-006) of President John F. Kennedy’s 1961 State of the Union address."
      ]
    },
    {
      "cell_type": "markdown",
      "metadata": {
        "id": "857d8bf104ed"
      },
      "source": [
        "### Install dependencies"
      ]
    },
    {
      "cell_type": "code",
      "execution_count": 21,
      "metadata": {
        "id": "Y6eH_Aq_NyNi"
      },
      "outputs": [],
      "source": [
        "%pip install -q -U google-genai"
      ]
    },
    {
      "cell_type": "code",
      "execution_count": 22,
      "metadata": {
        "id": "LSe1pMEpR2L2"
      },
      "outputs": [],
      "source": [
        "from google import genai"
      ]
    },
    {
      "cell_type": "markdown",
      "metadata": {
        "id": "TXiv-NeZR5WA"
      },
      "source": [
        "### Configure your API key\n",
        "\n",
        "To run the following cell, your API key must be stored it in a Colab Secret named `GOOGLE_API_KEY`. If you don't already have an API key, or you're not sure how to create a Colab Secret, see [Authentication](../quickstarts/Authentication.ipynb) for an example."
      ]
    },
    {
      "cell_type": "code",
      "execution_count": 23,
      "metadata": {
        "id": "dm-iaNMGPdid",
        "colab": {
          "base_uri": "https://localhost:8080/",
          "height": 280
        },
        "outputId": "e6060fdd-aecd-4ea9-b6ac-3830d81dc61e"
      },
      "outputs": [
        {
          "output_type": "error",
          "ename": "TimeoutException",
          "evalue": "Requesting secret Vibe_Coding_Test timed out. Secrets can only be fetched when running from the Colab UI.",
          "traceback": [
            "\u001b[0;31m---------------------------------------------------------------------------\u001b[0m",
            "\u001b[0;31mTimeoutException\u001b[0m                          Traceback (most recent call last)",
            "\u001b[0;32m<ipython-input-23-f23ed1b0c4ef>\u001b[0m in \u001b[0;36m<cell line: 0>\u001b[0;34m()\u001b[0m\n\u001b[1;32m      1\u001b[0m \u001b[0;32mfrom\u001b[0m \u001b[0mgoogle\u001b[0m\u001b[0;34m.\u001b[0m\u001b[0mcolab\u001b[0m \u001b[0;32mimport\u001b[0m \u001b[0muserdata\u001b[0m\u001b[0;34m\u001b[0m\u001b[0;34m\u001b[0m\u001b[0m\n\u001b[0;32m----> 2\u001b[0;31m \u001b[0mGOOGLE_API_KEY\u001b[0m\u001b[0;34m=\u001b[0m\u001b[0muserdata\u001b[0m\u001b[0;34m.\u001b[0m\u001b[0mget\u001b[0m\u001b[0;34m(\u001b[0m\u001b[0;34m'Vibe_Coding_Test'\u001b[0m\u001b[0;34m)\u001b[0m\u001b[0;34m\u001b[0m\u001b[0;34m\u001b[0m\u001b[0m\n\u001b[0m",
            "\u001b[0;32m/usr/local/lib/python3.11/dist-packages/google/colab/userdata.py\u001b[0m in \u001b[0;36mget\u001b[0;34m(key)\u001b[0m\n\u001b[1;32m     64\u001b[0m     )\n\u001b[1;32m     65\u001b[0m   \u001b[0;32mif\u001b[0m \u001b[0;32mnot\u001b[0m \u001b[0mresp\u001b[0m\u001b[0;34m:\u001b[0m\u001b[0;34m\u001b[0m\u001b[0;34m\u001b[0m\u001b[0m\n\u001b[0;32m---> 66\u001b[0;31m     \u001b[0;32mraise\u001b[0m \u001b[0mTimeoutException\u001b[0m\u001b[0;34m(\u001b[0m\u001b[0mkey\u001b[0m\u001b[0;34m)\u001b[0m\u001b[0;34m\u001b[0m\u001b[0;34m\u001b[0m\u001b[0m\n\u001b[0m\u001b[1;32m     67\u001b[0m   \u001b[0;32mif\u001b[0m \u001b[0;32mnot\u001b[0m \u001b[0mresp\u001b[0m\u001b[0;34m.\u001b[0m\u001b[0mget\u001b[0m\u001b[0;34m(\u001b[0m\u001b[0;34m'exists'\u001b[0m\u001b[0;34m,\u001b[0m \u001b[0;32mFalse\u001b[0m\u001b[0;34m)\u001b[0m\u001b[0;34m:\u001b[0m\u001b[0;34m\u001b[0m\u001b[0;34m\u001b[0m\u001b[0m\n\u001b[1;32m     68\u001b[0m     \u001b[0;32mraise\u001b[0m \u001b[0mSecretNotFoundError\u001b[0m\u001b[0;34m(\u001b[0m\u001b[0mkey\u001b[0m\u001b[0;34m)\u001b[0m\u001b[0;34m\u001b[0m\u001b[0;34m\u001b[0m\u001b[0m\n",
            "\u001b[0;31mTimeoutException\u001b[0m: Requesting secret Vibe_Coding_Test timed out. Secrets can only be fetched when running from the Colab UI."
          ]
        }
      ],
      "source": [
        "from google.colab import userdata\n",
        "GOOGLE_API_KEY=userdata.get('Vibe_Coding_Test')"
      ]
    },
    {
      "cell_type": "markdown",
      "metadata": {
        "id": "2YoxMrCdR7hf"
      },
      "source": [
        "## Upload an audio file with the File API\n",
        "\n",
        "To use an audio file in your prompt, you must first upload it using the [File API](../quickstarts/File_API.ipynb).\n"
      ]
    },
    {
      "cell_type": "code",
      "execution_count": null,
      "metadata": {
        "id": "OHvNLws4RRjx"
      },
      "outputs": [],
      "source": [
        "URL = \"https://storage.googleapis.com/generativeai-downloads/data/State_of_the_Union_Address_30_January_1961.mp3\""
      ]
    },
    {
      "cell_type": "code",
      "execution_count": null,
      "metadata": {
        "id": "Cxq31LDwSFH6"
      },
      "outputs": [],
      "source": [
        "!wget -q $URL -O sample.mp3"
      ]
    },
    {
      "cell_type": "code",
      "execution_count": null,
      "metadata": {
        "id": "MAObE0BpaAwG"
      },
      "outputs": [],
      "source": [
        "client = genai.Client(api_key=GOOGLE_API_KEY)\n",
        "\n",
        "your_file = client.files.upload(file='sample.mp3')"
      ]
    },
    {
      "cell_type": "markdown",
      "metadata": {
        "id": "m01XDoo4UQvN"
      },
      "source": [
        "## Use the file in your prompt"
      ]
    },
    {
      "cell_type": "code",
      "execution_count": null,
      "metadata": {
        "id": "YmISEsqpafRb"
      },
      "outputs": [],
      "source": [
        "response = client.models.generate_content(\n",
        "  model='gemini-2.0-flash',\n",
        "  contents=[\n",
        "    'Listen carefully to the following audio file. Provide a brief summary.',\n",
        "    your_file,\n",
        "  ]\n",
        ")\n",
        "\n",
        "print(response.text)"
      ]
    },
    {
      "cell_type": "markdown",
      "metadata": {
        "id": "ln36O5eNLltg"
      },
      "source": [
        "## Inline Audio"
      ]
    },
    {
      "cell_type": "markdown",
      "metadata": {
        "id": "AVaX93lvLqQB"
      },
      "source": [
        "For small requests you can inline the audio data into the request, like you can with images. Use PyDub to trim the first 10s of the audio:"
      ]
    },
    {
      "cell_type": "code",
      "execution_count": null,
      "metadata": {
        "id": "XLZT7rrzLpzp"
      },
      "outputs": [],
      "source": [
        "%pip install -Uq pydub"
      ]
    },
    {
      "cell_type": "code",
      "execution_count": null,
      "metadata": {
        "id": "0Kbji0xRMIhr"
      },
      "outputs": [],
      "source": [
        "from pydub import AudioSegment"
      ]
    },
    {
      "cell_type": "code",
      "execution_count": null,
      "metadata": {
        "id": "umFIVVlHLlQD"
      },
      "outputs": [],
      "source": [
        "sound = AudioSegment.from_mp3(\"sample.mp3\")"
      ]
    },
    {
      "cell_type": "code",
      "execution_count": null,
      "metadata": {
        "id": "hKoLR5mdMMdn"
      },
      "outputs": [],
      "source": [
        "sound[2000:12000] # slices are in ms"
      ]
    },
    {
      "cell_type": "markdown",
      "metadata": {
        "id": "66MNT0mFP4x-"
      },
      "source": [
        "Add it to the list of parts in the prompt:"
      ]
    },
    {
      "cell_type": "code",
      "execution_count": null,
      "metadata": {
        "id": "420qRCkGNg9j"
      },
      "outputs": [],
      "source": [
        "from google.genai import types\n",
        "\n",
        "response = client.models.generate_content(\n",
        "  model='gemini-2.0-flash',\n",
        "  contents=[\n",
        "    'Describe this audio clip',\n",
        "    types.Part.from_bytes(\n",
        "      data=sound[:10000].export().read(),\n",
        "      mime_type='audio/mp3',\n",
        "    )\n",
        "  ]\n",
        ")\n",
        "\n",
        "print(response.text)"
      ]
    },
    {
      "cell_type": "markdown",
      "metadata": {
        "id": "u4SJOOnoPP_L"
      },
      "source": [
        "Note the following about providing audio as inline data:\n",
        "\n",
        "- The maximum request size is 20 MB, which includes text prompts, system instructions, and files provided inline. If your file's size will make the total request size exceed 20 MB, then [use the File API](https://ai.google.dev/gemini-api/docs/audio?lang=python#upload-audio) to upload files.\n",
        "- If you're using an audio sample multiple times, it is more efficient to [use the File API](https://ai.google.dev/gemini-api/docs/audio?lang=python#upload-audio).\n"
      ]
    },
    {
      "cell_type": "markdown",
      "metadata": {
        "id": "Gdb8h-EYQ3Px"
      },
      "source": [
        "## Get a transcript of the audio file\n",
        "To get a transcript, just ask for it in the prompt. For example:\n"
      ]
    },
    {
      "cell_type": "code",
      "execution_count": null,
      "metadata": {
        "id": "CDDFac4yQ5lH"
      },
      "outputs": [],
      "source": [
        "prompt = \"Generate a transcript of the speech.\""
      ]
    },
    {
      "cell_type": "markdown",
      "metadata": {
        "id": "Ux0eX9DYQJ8x"
      },
      "source": [
        "## Refer to timestamps in the audio file\n",
        "A prompt can specify timestamps of the form `MM:SS` to refer to particular sections in an audio file. For example:"
      ]
    },
    {
      "cell_type": "code",
      "execution_count": 17,
      "metadata": {
        "id": "r8yVUZGaQPgF",
        "colab": {
          "base_uri": "https://localhost:8080/"
        },
        "outputId": "caa79f1c-15af-4c81-985c-d20d6ad54667"
      },
      "outputs": [
        {
          "output_type": "stream",
          "name": "stdout",
          "text": [
            "The President's State of the Union address to a joint session of the Congress from the rostrum of the House of Representatives Washington, D.C., January 30th, 1961.\n",
            "\n",
            "Mr. Vice President, members of the Congress, it is a pleasure to return from whence I came.\n",
            "\n",
            "You are among my oldest friends in Washington, and this house is my oldest home. It was here.\n",
            "\n",
            "It was here more than 14 years ago that I first took the oath of Federal office. It was here for 14 years that I gained both knowledge and inspiration from members of both parties in both houses, from your wise and generous leaders, and from the pronouncements which I can vividly recall, sitting where you now sit, including the programs of two great presidents. The undimmed eloquence of Churchill, the soaring idealism of Nehru, the steadfast words of General DeGaulle. To speak from this same historic rostrum is a sobering experience. To be back among so many friends is a happy one. I am confident that that friendship will continue. Our Constitution wisely assigns both joint and separate roles to each branch of the government. And a president and a congress who hold each other in mutual respect will neither permit nor attempt any trespass. For my part, I shall withhold from neither the Congress nor the people any fact or report past, present, or future, which is necessary for an informed judgment of our conduct and hazards.\n",
            "\n",
            "I shall neither shift the burden of executive decisions to the Congress, nor avoid responsibility for the outcome of those decisions. I speak today in an hour of national peril and national opportunity. Before my term has ended, we shall have to test anew whether a nation organized and governed such as ours can endure. The outcome is by no means certain. The answers are by no means clear. All of us together, this administration, this Congress, this nation, must forge those answers. But today were I to offer after a little more than a week in office, detailed legislation to remedy every national ill, the Congress would rightly wonder whether the desire for speed had replaced the duty of responsibility. My remarks therefore, will be limited, but they will also be candid. To state the facts frankly is not to despair the future nor indict the past. The prudent heir takes careful inventory of his legacies and gives a faithful accounting to those whom he owes an obligation of trust. And while the occasion does not call for another recital of our blessings and assets. We do have no greater asset than the willingness of a free and determined people, through its elected officials, to face all problems frankly and meet all dangers, free from panic or fear. The present state of our economy is disturbing. We take office in the wake of seven months of recession, three and one half years of slack, seven years of diminished economic growth, and nine years of falling farm income. Business bankruptcies have reached their highest level since the Great Depression. Since 1951, farm income has been squeezed down by 25%. Save for a brief period in 1958, insured unemployment is at the highest peak in our history. Of some five and one half million Americans who are without jobs, more than 1 million have been searching for work for more than four months. And during each month some 150,000 workers are exhausting their already meager jobless benefit rights. Nearly 1/8 of those who are without jobs live almost without hope in nearly 100 specially distressed and troubled areas. The rest include new school graduates, unable to use their talents, farmers, forced to give up their part-time jobs which helped balance their family budgets, skilled and unskilled workers laid off in such important industries as metals, machinery, automobiles, and apparel. Our recovery from the 1958 recession moreover was anemic and incomplete. Our gross national product never regained its full potential. Unemployment never returned to normal levels. Maximum use of our national industrial capacity was never fully restored. In short, the American economy is in trouble. The most resourceful industrialized country on Earth ranks among the last in the rate of economic growth. Since last spring our economic growth rate has actually declined. Business investment is in a decline. Profits have fallen below predicted levels. Construction is off. A million unsold automobiles are in inventory. Fewer people are working and the average work week has shrunk well below 40 hours. Yet prices have continued to rise so that now too many Americans have less to spend for items that cost more to buy. Economic prophecy is at best an uncertain art. As demonstrated by the prediction 1 year ago from this same podium that 1960 would be and I quote, the most prosperous year in our history. Unquote. Nevertheless, forecast of continued slack and only slightly reduced unemployment through 1961 and 1962 have been made with alarming unanimity, and this administration does not intend to stand helplessly by.\n",
            "\n",
            "We cannot afford to waste idle hours and empty plants while awaiting the reend of the recession. We must show the world what a free economy can do to reduce unemployment, to put unused capacity to work, to spur new productivity, and to foster higher economic growth within a range of sound fiscal policies and relative price stability. I will propose to the Congress within the next 14 days, measures to improve unemployment compensation, through temporary increases in duration on a self-supporting basis, to provide more food for the families of the unemployed and to aid their needy children, to redevelop our areas of chronic labor surplus, to expand the services of the US employment office, to stimulate housing and construction, to secure more purchasing power for our lowest paid workers by raising and expanding the minimum wage, to offer tax incentives for sound plant investment, to increase the development of our natural resources, to encourage price stability, and to take other steps aimed at ensuring a prompt recovery and paving the way for increased long range growth. This is not a partisan program concentrating on our weaknesses. It is I hope a national program to realize our national strength.\n",
            "\n",
            "Efficient expansion at home, stimulating the new plant and technology that can make our goods more competitive, is also the key to the international balance of payment problem. Laying aside all alarmist talk and panicky solutions, let us put that naughty problem in its proper perspective. It is true that since 1958, the gap between the dollars we spend or invest abroad and the dollars returned to us has substantially widened. This overall deficit in our balance of payments increased by nearly $11 billion in the last three years, and holders of dollars abroad converted them to gold in such a quantity as to cause a total outflow of nearly $5 billion of gold from our reserves. The 1959 deficit was caused in large part by our failure of our exports to penetrate foreign markets, the result both of restrictions on our goods and our own uncompetitive prices. The 1960 deficit on the other hand was more the result of an increase in private capital outflow seeking new opportunity, higher return, or speculative advantage abroad. Meanwhile, this country has continued to bear more than its share of the West's military and foreign aid obligations. Under existing policies, another deficit of $2 billion is predicted for 1961 and individuals in those countries whose dollar position once depended on these deficits for improvement, now wonder aloud whether our gold reserves will remain sufficient to meet our own obligations. All this is cause for concern, but it is not cause for panic, for our monetary and financial position remains exceedingly strong. Including our drawing rights in the International Monetary Fund and the gold reserve held as backing for our currency and federal reserve deposits, we have some $22 billion in total gold stocks and other international monetary reserves, and I now pledge that their full strength stands behind the value of the dollar for use if needed.\n",
            "\n",
            "Moreover, we hold large assets abroad. The total owed this nation far exceeds the claim upon our reserves, and our exports once again substantially exceed our imports. In short, we need not, and we shall not take any action to increase the dollar price of gold from $35 an ounce.\n",
            "\n",
            "To impose exchange controls, to reduce our anti-recession efforts, to fall back on restrictive trade policies or to weaken our commitments around the world. This administration will not distort the value of the dollar in any fashion, and this is a commitment.\n",
            "\n",
            "Prudence and good sense do require however that new steps be taken to ease the payment deficits and prevent any gold crisis. Our success in world affairs has long depended in part upon foreign confidence in our ability to pay. A series of executive orders, legislative remedies, and cooperative efforts with our allies will get underway immediately aimed at attracting foreign investment and travel to this country, promoting American exports at stable prices and with more liberal government guarantees and financing, curbing tax and custom loopholes that encourage undue spending of private dollars abroad, and through OECD NATO and otherwise sharing with our allies all efforts to provide for the common defense of the free world and the hopes for growth of the less developed lands. While the current deficit lasts, ways will be found to ease our dollar outlays abroad without placing the full burden on the families of men who we have asked to serve our flag overseas.\n",
            "\n",
            "In short, whatever is required will be done to back up all our efforts abroad and to make certain that in the future as in the past, the dollar is as sound as a dollar.\n",
            "\n",
            "But more than our exchange of international payments is out of balance. The current federal budget for fiscal 1961 is almost certain to show a net deficit. The budget already submitted for fiscal 1962 will remain in balance only if the Congress enacts all the revenue measures requested and only if an earlier and sharper upturn in the economy than my economic advisors now think likely, produces the tax revenues estimated. Nevertheless, a new administration must of necessity build on the spending and revenue estimates already submitted. Within that framework, barring the development of urgent national defense needs or a worsening of the economy. It is my current intention to advocate a program of expenditures which including revenue from a stimulation of the economy will not of and by themselves unbalance the earlier budget. However, we will do what must be done, for our national household is cluttered with unfinished and neglected tasks. Our cities are being engulfed in squalor. 12 long years after Congress declared our goal to be a decent home and a suitable environment for every American family, we still have 25 million Americans living in substandard homes. A new housing program under a new Housing and Urban Affairs Department will be needed this year. Our classrooms contain 2 million more children than they can properly have room for. Taught by 90,000 teachers, not properly qualified to teach. 1/3 of our most promising high school graduates are financially unable to continue the development of their talents. The war babies of the 1940s who overcrowded our schools in the 1950s are now descending in 1960 upon our colleges with two college students for everyone 10 years from now and our colleges are ill-prepared. We lack the scientists, the engineers, and the teachers, our world obligations require. We have neglected oceanography, saline water conversion and the basic research that lies at the root of all progress. Federal grants for both higher and public school education can no longer be delayed.\n",
            "\n",
            "Medical research has achieved new wonders, but these wonders are too often beyond the reach of too many people, owing to a lack of income particularly among the aged, a lack of hospital beds, a lack of nursing homes and a lack of doctors and dentists. Measures to provide health care for the aged under Social Security and to increase the supply of both facilities and personnel must be undertaken this year.\n",
            "\n",
            "Our supply of clean water is dwindling. Organized and juvenile crime cost the taxpayers millions of dollars every year, making it essential that we have improved enforcement and new legislative safeguards. The denial of constitutional rights to some of our fellow Americans on account of race at the ballot box and elsewhere disturbs the national conscience and subjects us to the charge of world opinion that our democracy is not equal to the high promise of our heritage. Morality in private business has not been sufficiently spurred by morality in public business. A host of problems and projects in all 50 states though not possible to include in this message deserves and will receive the attention of both the Congress and the executive branch. On most of these matters, messages will be sent to the Congress within the next 2 weeks. But all these problems pale when placed besides those which confront us around the world. No man entering upon this office regardless of his party, regardless of his previous service in Washington, could fail to be staggered upon learning even this brief 10-day period, the harsh enormities of the trials through which we must pass in the next 4 years. Each day the crises multiply. Each day their solution grows more difficult. Each day we draw nearer the hour of maximum danger as weapons spread and hostile forces grow stronger. I feel I must inform the Congress that our analysis over the next last 10 days make it clear that in each of the principal areas of crisis, the tide of events has been running out and time has not been our friend. In Asia, the relentless pressures of the Chinese Communists menace the security of the entire area from the borders of India and South Vietnam to the jungles of Laos, struggling to protect its newly won independence. We seek in Laos what we seek in all Asia and indeed in all of the world, freedom for the people, and independence for the government and this nation shall persevere in our pursuit of these objectives.\n",
            "\n",
            "In Africa, the Congo has been brutally torn by civil strife, political unrest and public disorder. We shall continue to support the heroic efforts of the United Nations to restore peace and order. Efforts which are now endangered by mounting tension, unsolved problems, and decreasing support from many member states. In Latin America, Communist agents seeking to exploit that region's peaceful revolution of hope have established a base on Cuba only 90 miles from our shore. Our objection with Cuba is not over the people's drive for a better life. Our objection is to their domination by foreign and domestic tyrannies.\n",
            "\n",
            "Cuban social and economic reforms should be encouraged. Questions of economics and trade policy can always be negotiated, but Communist domination in this hemisphere can never be negotiated. We are pledged to work with our sister Republics to free the Americas of all such foreign domination and all tyranny working towards the goal of a free hemisphere of free governments extending from Cape Horn to the Arctic Circle.\n",
            "\n",
            "In Europe, our alliances are unfilled, and in some disarray. The unity of NATO has been weakened by economic rivalry and partially eroded by national interests. It has not yet fully mobilized its resources nor fully achieved a common outlook. Yet no Atlantic power can meet on its own the mutual problems now facing us in defense, foreign aid, monetary reserves and a host of other areas and our close ties with those whose hopes and interests we share are among this nation's most powerful assets. Our greatest challenge is still the world that lies beyond the Cold War, but the first great obstacle is still our relations with the Soviet Union and Communist China. We must never be lulled into believing that either power has yielded its ambitions for world domination, ambitions which they forcefully restated only a short time ago. On the contrary, our task is to convince them that aggression and subversion will not be profitable routes to pursue these ends. Open and peaceful competition for prestige, for market, for scientific achievement, even for men's minds is something else again. For if freedom and communism would compete for man's allegiance in a world at peace. I would look to the future with ever increasing confidence.\n",
            "\n",
            "To meet this array of challenges, to fulfill the role we cannot avoid on the world scene. We must reexamine and revise our whole arsenal of tools. One must not overshadow the other. On the presidential coat of arms, the American Eagle holds in his right talon the olive branch while in his left he holds a bundle of arrows. We intend to give equal attention to both.\n",
            "\n",
            "First we must strengthen our military tools. We are moving into a period of uncertain risk and great commitments in which both the military and diplomatic possibilities require a free world force so powerful as to make any aggression clearly futile. Yet in the past lack of a consistent coherent military strategy, the absence of basic assumptions about our national requirements and the faulty estimate and duplication arising from inter-service rivalries have all made it difficult to assess accurately how adequate or inadequate our defenses really are. I have therefore instructed the Secretary of Defense to reappraise our entire defense strategy. Our ability to fulfill our commitments, the effectiveness, vulnerability, and dispersal of our strategic bases, forces and warning systems, the efficiency and economy of our operation and organization, the elimination of obsolete bases and installations, and the adequacy modernization and mobility of our present conventional and nuclear forces and weapon systems in the light of present and future dangers. I have asked for preliminary conclusions by the end of February and I then shall recommend whatever legislative budgetary or executive action is needed in the light of these conclusions. In the meantime I have asked the defense Secretary to initiate immediately three steps most clearly needed now. First I have directed prompt attention to increase our airlift capacity. Obtaining additional air transport mobility and obtaining it now will better assure the ability of our conventional forces to respond without discrimination and speed with discrimination and speed to any problem at any spot on the globe at any moment's notice. In particular it will enable us to meet any deliberate effort to avoid or divert our forces by starting limited wars in widely scattered parts of the globe. B. I have directed prompt action to step up our Polaris submarine program. Using using unobligated shipbuilding funds now to let contracts originally scheduled for the next fiscal year will build and place on station at least 9 months earlier than planned substantially more units of a crucial deterrent, a fleet that will never attack first but possess sufficient power of retaliation concealed beneath the sea to discourage any aggressor from launching an attack upon our security. C. I have directed prompt action to accelerate our entire missile program. Until the Secretary of defense reappraisal is completed, the emphasis here will be largely on improved organization and decision-making. On cutting down the wasteful duplications and the time lag that have handicapped our whole family of missiles. If we are to keep the peace, we need an invulnerable missile force powerful enough to deter any aggressor from even threatening an attack that he would know could not destroy enough of our own forces to prevent his own destruction. For as I said upon taking the oath of office, only when our arms are sufficient beyond doubt can we be certain beyond doubt that they will never be employed. Secondly we must improve our economic tools. Our role is essential and unavoidable in the construction of a sound and expanding economy for the entire non-Communist world helping other nations build the strength to meet their own problems to satisfy their own aspirations to surmount their own dangers. The problems in achieving this goal are towering and unprecedented. The response must be towering and unprecedented as well. Much as lend lease and the Marshall Plan were in earlier years which brought such fruitful results. I intend to ask the Congress for authority to establish a new and more effective program for assisting the economic, educational, and social development of other countries and continents. That program must stimulate and take more effectively into account the contributions of our allies and provide central policy direction for all our own programs that now so often overlap, conflict, or diffuse our energies and resources. Such a program compared to past programs will require more flexibility for short run emergencies, more commitment to long-term development, new attention to education at all levels. Greater emphasis on the recipient nation's role, their effort, their purpose with greater social justice for their people, a broader distribution and participation by their people and more efficient public administration and more efficient tax systems of their own and orderly planning for national and regional development instead of a piecemeal approach. I hope the Senate will take early action approving the convention establishing the organization for economic cooperation and development. This will be an important instrument in sharing with our allies this development effort working towards the time when each nation will contribute in proportion to its ability to pay. For while we are prepared to assume our full share of these huge burdens, we cannot and must not be expected to bear them alone. To our sister Republics of the South, we have pledged a new alliance for progress. Alianza para Progreso. Our goal is a free and prosperous Latin America realizing for all its states and all its citizens, a degree of economic and social progress that matches their historic contributions of culture, intellect and liberty. To start this nation's role at this time in that alliance of neighbors. I am recommending the following: that the Congress appropriate in full the $500 million fund pledged by the Act of Bogata to be used not as an instrument of the Cold War but as a first step in the sound development of the Americans, that a new inter-departmental task force be established under the leadership of the Department of State to coordinate at the highest level all policies and programs of concern to the Americas. That our delegates to the OAS working with those of other members, strengthen that body as an instrument to preserve the peace and to prevent foreign domination anywhere in the hemisphere. That in cooperation with other nations, we launch a new hemispheric attack on illiteracy and an adequate educational opportunities at all levels. And finally that a Food for Peace mission be sent immediately to Latin America to explore ways in which our vast food abundance can be used to help hunger and malnutrition in certain areas of suffering in our own hemisphere. This administration is expanding its Food for Peace program in every possible way. The product of our abundance must be used more effectively to relieve hunger and help economic growth in all corners of the globe. And I have asked the director of this program to recommend additional ways in which these surpluses can advance the interests of world peace including the establishment of world food reserves. An even more valuable national asset is our reservoir of dedicated men and women, not only at our college campuses, but in every age group who have indicated their desire to contribute their skills, their efforts and a part of their lives to the fight for world order. We can mobilize this talent through the formation of a national peace core enlisting the services of all those with desire and capacity to help foreign lands meet their urgent needs for trained personnel. Finally while our attention is centered on the development of the non-Communist world, we must never forget our hopes for the ultimate freedom and welfare of the Eastern European people. In order to be prepared to help reestablish historic ties of friendship, I am asking the Congress for increased discretion to use economic tools in this area whenever this is found to be clearly in the national interest. This will require amendment of the mutual defense assistance control act along the lines I proposed as a member of the Senate and upon which the Senate voted last summer. Meanwhile, I hope to explore with the Polish Government the possibility of using our frozen Polish funds on projects of peace that will demonstrate our abiding friendship and interest in the people of Poland. Third, we must sharpen our political and diplomatic tools, the means of cooperation and agreement on which an enforceable world order must ultimately rest. I have already taken steps to coordinate and expand our disarmament effort, to increase our programs of research and study and to make arms control a central goal of our national policy under my direction. The deadly arms race and the huge resources it absorbs have too long overshadowed all else we must do. We must prevent that arms racing from spreading to new nations, to new nuclear power powers and to the outer reaches of space. We must make certain that our negotiators are better informed and better prepared to formulate workable proposals of our own and to make sound judgment about the proposals of others. I have asked the other governments concerned to agree to a reasonable delay in the talks on a nuclear test ban and it is our intention to resume negotiations prepared to reach a final agreement with any nation that is equally willing to agree to an effective and enforceable treaty. We must increase our support of the United Nations as an instrument to end the Cold War instead of an arena in which to fight it. In recognition of its increasing importance and the doubling of its membership, we are enlarging and strengthening our own mission to the UN. We shall help ensure that it is properly financed. We shall work to see that the integrity of the office of the Secretary General is maintained. And I would address a special plea to the smaller nations of the world to join with us in strengthening this organization, which is far more essential to their security than it is to ours. The only body in the world where no nation need be powerful to be secure, where every nation has an equal voice and where any nation can exert influence not according to the strength of its armies, but according to the strength of its ideas. It deserves the support of all.\n",
            "\n",
            "Finally this administration intends to explore promptly all possible areas of cooperation with the Soviet Union and other nations to invoke the wonders of science instead of its terrors. Specifically, I now invite all nations including the Soviet Union, to join with us in developing a weather prediction program, in a new communications satellite program and in preparation for probing the distant planet of Mars and Venus probes which may someday unlock the deepest secrets of the universe. Today this country is ahead in the science and technology of space while the Soviet Union is ahead in the capacity. While the Soviet Union is ahead in the capacity to lift large vehicles into orbit. Both nations would help themselves as well as other nations by removing these endeavors from the bitter and wasteful competition of the Cold War. The United States would be willing to join with the Soviet Union and the scientists of all nations in a greater effort to make the fruits of this new knowledge available to all. And beyond that in an effort to extend farm technology to hungry nations to wipe out disease, to increase the exchanges of scientists and knowledge and our make our own laboratories available to technicians of other lands who lack the facilities to pursue their own work. Where nature makes natural allies of us all, we can demonstrate that beneficial relations are possible even with those with whom we most deeply disagree and this must someday be the basis of world peace and world law. I have commented on the state of the domestic economy, our balance of payments, our federal and social budget and the state of the world. I would like to conclude with a few remarks about the state of the executive branch. We have found it full of honest and useful public servants, but their capacity to act decisively at the exact time action is needed has too often been muffled in the morass of committees, timidities, and fictitious theories which have created a growing gap between decision and execution between planning and reality. In a time of rapidly deteriorating situations at home and abroad this is bad for the public service and particularly bad for the country and we mean to make a change.\n",
            "\n",
            "I have pledged myself and my colleagues in the cabinet to a continuous encouragement of initiative, responsibility and energy in serving the public interest. Let every public servant know whether his post is high or low that a man's rank and reputation in this administration will be determined by the size of the job he does and not by the size of his staff, his office or his budget.\n",
            "\n",
            "Let it be clear that this administration recognizes the value of dissent and daring that we greet healthy controversy as the Hallmark of healthy change. Let the public service be a proud and lively career and let every man and woman who works in any area of our national government in any branch at any level be able to say with pride and with honor in future years, I served the United States government in that hour of our nation's need. For only with complete dedication by us all to the national interest can we bring our country through the troubled years that lie ahead. Our problems are critical. The tide is unfavorable. The news will be worse before it is better. And while hoping and working for the best, we should prepare ourselves now for the worst. We cannot escape our dangers. Neither must we let them drive us into panic or narrow isolation. In many areas of the world where the balance of power already rests with our adversaries, the forces of freedom are sharply divided. It is one of the ironies of our time that the techniques of a harsh and repressive system should be able to instill discipline and order in its servants while the blessings of liberty have too often stood for privilege, materialism, and a life of ease. But I have a different view of liberty. Life in 1961 will not be easy. Wishing it, predicting it, even asking for it will not make it so. There will be further setbacks before the tide is turned but turn it we must. The hopes of all mankind rest upon us, not simply upon those of us in this chamber, but upon the peasant in Laos, the fisherman in Nigeria, the exile from Cuba, the spirit that moves every man and nation who shares our hopes for freedom and the future and in the final analysis they rest most of all upon the pride and perseverance of our fellow citizens of the great Republic. In the words of a great president whose birthday we honor today closing his final State of the Union message 16 years ago, we pray that we may be worthy of the unlimited opportunities that God has given us. Thank you.\n",
            "\n"
          ]
        }
      ],
      "source": [
        "# Create a prompt containing timestamps.\n",
        "prompt = \"Provide a transcript of the speech from 02:30 to 03:29.\"\n",
        "\n",
        "response = client.models.generate_content(\n",
        "  model='gemini-2.0-flash',\n",
        "  contents=[\n",
        "    prompt,\n",
        "    your_file,\n",
        "  ]\n",
        ")\n",
        "\n",
        "print(response.text)"
      ]
    },
    {
      "cell_type": "markdown",
      "metadata": {
        "id": "WVFm2MOLWJO5"
      },
      "source": [
        "## Count audio tokens\n",
        "\n",
        "You can count the number of tokens in your audio file using the [count_tokens](https://googleapis.github.io/python-genai/#count-tokens-and-compute-tokens) method.\n",
        "\n",
        "Audio files have a fixed per second token rate (more details in the dedicated [count token quickstart](./Counting_Tokens.ipynb)."
      ]
    },
    {
      "cell_type": "code",
      "execution_count": 18,
      "metadata": {
        "id": "O0xk2-6CWLfC",
        "colab": {
          "base_uri": "https://localhost:8080/"
        },
        "outputId": "d3d77848-820a-4dbf-e8e5-e274079a6704"
      },
      "outputs": [
        {
          "output_type": "stream",
          "name": "stdout",
          "text": [
            "Audio file tokens: 83528\n"
          ]
        }
      ],
      "source": [
        "count_tokens_response = client.models.count_tokens(\n",
        "    model='gemini-2.0-flash',\n",
        "    contents=[your_file],\n",
        ")\n",
        "\n",
        "print(\"Audio file tokens:\",count_tokens_response.total_tokens)"
      ]
    },
    {
      "cell_type": "markdown",
      "metadata": {
        "id": "To4Rh9Do8GpX"
      },
      "source": [
        "Youtube Example"
      ]
    },
    {
      "cell_type": "code",
      "execution_count": 19,
      "metadata": {
        "id": "FYq7Q-ww8J_n",
        "colab": {
          "base_uri": "https://localhost:8080/",
          "height": 573
        },
        "outputId": "de3b88f1-4bb3-4821-ec2d-0463a1ef1e38"
      },
      "outputs": [
        {
          "output_type": "display_data",
          "data": {
            "text/plain": [
              "<IPython.core.display.Markdown object>"
            ],
            "text/markdown": "Okay, here's an analysis of the YouTube video content based on the provided title and visual/audio information:\n\n1.  **Main Thesis/Claim:** Google's Gemini 2.5 Pro is the best AI model currently available specifically for coding tasks, particularly excelling in complex code generation and refactoring compared to other models the creator has tested.\n\n2.  **Key Topics:**\n    *   **Gemini 2.5 Pro Introduction:** Announcing the model and the creator's positive initial impression.\n    *   **Code Generation Examples:**\n        *   **Ultimate Tic-Tac-Toe:** Generating a complex game in Java using Swing, which worked correctly on the first attempt (\"one-shot\").\n        *   **Kitten Cannon Clone:** Generating a launch-style game using p5.js (JavaScript). Required two debugging prompts (\"three-shot\") to fix errors (`oncontextmenu`, `sketch.sign` vs. `Math.sign`).\n        *   **Landing Page (FishLog):** Attempting to build a landing page using Vite, React, and Tailwind CSS based on a mockup image. Performance was noted as poor.\n        *   **X (Twitter) UI Clone:** Attempting to recreate a portion of the X website UI in a single HTML file. Performed slightly better than the landing page but still highlighted as not a strength.\n    *   **Code Refactoring:** Demonstrating Gemini 2.5 Pro's ability to refactor the creator's \"crappy\" Rust code into a more idiomatic version using iterators, claiming it outperformed other models (like Claude 3.5 Sonnet) on this specific task.\n    *   **Benchmark Analysis:** Reviewing benchmark charts (Humanity's Last Exam, GPQA diamond, AIME 2025, LiveCodeBench v5, Aider Polyglot, SWE-bench verified) comparing Gemini 2.5 Pro against models like OpenAI O3-mini, GPT-4.5, Claude 3.7 Sonnet, Grok 3 Beta, and DeepSeek R1. Highlights its strong reasoning, science, math (vs. most), and code editing capabilities, though not universally topping code generation benchmarks shown.\n    *   **Knowledge Cutoff & Grounding:** Testing the model's knowledge of the current React.js version, initially showing outdated info (pre-Dec 2024) but correcting it when using the \"Grounding with Google Search\" feature. The benchmark slide indicated a March 2025 training data cutoff, creating a slight discrepancy.\n\n3.  **Call to Action:** The creator explicitly asks viewers to share their own experiences and thoughts on Gemini 2.5 Pro, especially regarding coding, in the comments section. Standard engagement requests (like, subscribe) are also mentioned briefly at the very end.\n\n4.  **Summary:** The video presents Google's Gemini 2.5 Pro as the leading AI for coding. The creator showcases its success in generating complex Java and p5.js games (though the latter needed debugging) and its superior ability to refactor Rust code compared to rivals. While acknowledging its limitations in front-end UI generation (demonstrated with React/Tailwind and HTML examples), the analysis of benchmarks and the impressive refactoring lead the creator to conclude it's currently the best overall *coding* AI, despite not topping every benchmark shown."
          },
          "metadata": {}
        }
      ],
      "source": [
        "from google.genai import types\n",
        "from IPython.display import display, Markdown\n",
        "youtube_url = \"https://www.youtube.com/watch?v=RDOMKIw1aF4\" # Repalce with the youtube url you want to analyze\n",
        "\n",
        "prompt = \"\"\"\n",
        "    Analyze the following YouTube video content. Provide a concise summary covering:\n",
        "\n",
        "    1.  **Main Thesis/Claim:** What is the central point the creator is making?\n",
        "    2.  **Key Topics:** List the main subjects discussed, referencing specific examples or technologies mentioned (e.g., AI models, programming languages, projects).\n",
        "    3.  **Call to Action:** Identify any explicit requests made to the viewer.\n",
        "    4.  **Summary:** Provide a concise summary of the video content.\n",
        "\n",
        "    Use the provided title, chapter timestamps/descriptions, and description text for your analysis.\n",
        "\"\"\"\n",
        "# Analyze the video\n",
        "response = client.models.generate_content(\n",
        "    model=\"gemini-2.5-pro-exp-03-25\",\n",
        "    contents=types.Content(\n",
        "        parts=[\n",
        "            types.Part(text=prompt),\n",
        "            types.Part(\n",
        "                file_data=types.FileData(file_uri=youtube_url)\n",
        "            )\n",
        "        ]\n",
        "    )\n",
        ")\n",
        "display(Markdown(response.text))"
      ]
    },
    {
      "cell_type": "markdown",
      "metadata": {
        "id": "zudj6gxEWR2Q"
      },
      "source": [
        "## Next Steps\n",
        "### Useful API references:\n",
        "\n",
        "More details about Gemini API's [vision capabilities](https://ai.google.dev/gemini-api/docs/vision) in the documentation.\n",
        "\n",
        "If you want to know about the File API, check its [API reference](https://ai.google.dev/api/files) or the [File API](https://github.com/google-gemini/cookbook/blob/main/quickstarts/File_API.ipynb) quickstart.\n",
        "\n",
        "### Related examples\n",
        "\n",
        "Check this example using the audio files to give you more ideas on what the gemini API can do with them:\n",
        "* Share [Voice memos](https://github.com/google-gemini/cookbook/blob/main/examples/Voice_memos.ipynb) with Gemini API and brainstorm ideas\n",
        "\n",
        "### Continue your discovery of the Gemini API\n",
        "\n",
        "Have a look at the [Audio](../quickstarts/Audio.ipynb) quickstart to learn about another type of media file, then learn more about [prompting with media files](https://ai.google.dev/tutorials/prompting_with_media) in the docs, including the supported formats and maximum length for audio files. .\n"
      ]
    }
  ],
  "metadata": {
    "colab": {
      "name": "Audio.ipynb",
      "toc_visible": true,
      "provenance": [],
      "include_colab_link": true
    },
    "kernelspec": {
      "display_name": "Python 3",
      "name": "python3"
    }
  },
  "nbformat": 4,
  "nbformat_minor": 0
}